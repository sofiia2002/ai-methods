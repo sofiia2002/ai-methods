{
  "cells": [
    {
      "cell_type": "markdown",
      "metadata": {
        "id": "pca_Pr0DMTp8"
      },
      "source": [
        "# **ALGORYTMY EWOLUCYJNE**\n",
        "# Wykonawca - Levchenko Sofiia"
      ]
    },
    {
      "cell_type": "markdown",
      "metadata": {
        "id": "H7Vsv2tANQTo"
      },
      "source": [
        "## Wstęp\n",
        "Na tym ćwiczeniu zajęliśmy się implementacją algorytmu genetycznego z selekcją ruletkową, krzyżowaniem jednopunktowym oraz sukcesją generacyjną. Zaimplementowany algorytm następnie zostanie przetestowany, poprzez zdefiniowanie funkcji celu na podstawie problemu *rakiety i ładowanego do niej paliwa* podanego w poleceniu."
      ]
    },
    {
      "cell_type": "markdown",
      "metadata": {
        "id": "y2JJwB46NTv_"
      },
      "source": [
        "### Wykorzystane narzędzia\n",
        "W celu *implementacji* wyżej wspomnianego algorytmu, zostały wykorzystane pakie biblioteki jak `numpy` oraz `copy`.\n",
        "\n",
        " Pierwsza wspomniana biblioteka pozwala na swobodne posługiwanie się podstawowymi metodami obliczeń numerycznych. Biblioteka `copy` natomiast została wykorzystana w celu tworzenia kopii wartości zmiennych (a nie ich położenia w pamięci), w celu uniknięcia nieporządanego zachowania wykorzystywanych zmiennych. \n",
        "\n",
        "Kolejne biblioteki, czyli `pandas`, `matplotlib` oraz `tabulate` zostały wykorzystane do *przetworzenia* otrzymanych wyników oraz ich *wizualizacji* w postaci czytelnej dla człowieka."
      ]
    },
    {
      "cell_type": "code",
      "execution_count": null,
      "metadata": {
        "id": "k6O234s1T78R"
      },
      "outputs": [],
      "source": [
        "import numpy as np\n",
        "from copy import copy\n",
        "import matplotlib.pyplot as plt"
      ]
    },
    {
      "cell_type": "markdown",
      "metadata": {
        "id": "h0u436YeNcw0"
      },
      "source": [
        "## Implementacja algorytmu\n",
        "Implementację algorytmu podzieliliśmy na dwie częsci. Najpierw zostałe zimplementowane *funkcje pomocnicze*, będące częścią samego algorytmu genetycznego:\n",
        "\n",
        "\n",
        "*   **generate_population**, generującą populację o podanej liczebności i długości chromosomu\n",
        "*   **generate_rate**, generującą poziom jakości każdego osobnika na podstawiee zdefiniowanej funkcji celu\n",
        "*   **selection**, dokonującą selekcję ruletkową poprzez generację nowej populacji na podstawie wczęściej wyznaczonego poziomu jakości każdego osobnika\n",
        "*   **crossover_and_mutation**, dokonującą mutację oraz krzyżowanie jednopunktowe całej populacji i wykorzystująca oddzielnie zdefiniowane funkcje *mutation* oraz *crossover*"
      ]
    },
    {
      "cell_type": "code",
      "execution_count": null,
      "metadata": {
        "id": "ddy48Q59pZcV"
      },
      "outputs": [],
      "source": [
        "def generate_population(population_l, chromosome_l):\n",
        "  i=0\n",
        "  popupation = np.zeros((population_l, chromosome_l), dtype=int)\n",
        "  while i<population_l:\n",
        "    j=0\n",
        "    used_indexes = []\n",
        "    while j<chromosome_l:\n",
        "      chance = np.random.rand()\n",
        "      random_index = np.random.randint(0, chromosome_l)\n",
        "      if (random_index not in used_indexes) and (chance<0.5):\n",
        "        popupation[i][random_index] = 1\n",
        "        used_indexes.append(random_index)\n",
        "      j+=1\n",
        "    i+=1\n",
        "  return popupation"
      ]
    },
    {
      "cell_type": "code",
      "execution_count": null,
      "metadata": {
        "id": "oB3YT18jnSav"
      },
      "outputs": [],
      "source": [
        "def generate_rate(obj_func, curr_populat):\n",
        "  i = 0\n",
        "  j = 0\n",
        "  values = []\n",
        "  while i<len(curr_populat):\n",
        "    values.append(obj_func(curr_populat[i]))\n",
        "    i+=1\n",
        "  min_value = np.min(values)\n",
        "  if min_value<0:\n",
        "    while j<len(values):\n",
        "      values[j] = values[j] - min_value\n",
        "      j+=1\n",
        "  return np.array(values)"
      ]
    },
    {
      "cell_type": "code",
      "execution_count": null,
      "metadata": {
        "id": "LfY2lUK_pSim"
      },
      "outputs": [],
      "source": [
        "def selection(curr_populat, rate):\n",
        "  i = 0\n",
        "  j = 0\n",
        "  p_sel = []\n",
        "  while i<len(curr_populat):\n",
        "    value = 0\n",
        "    if (np.sum(rate) - rate[i] != 0):\n",
        "      value = rate[i]/(np.sum(rate) - rate[i])\n",
        "    p_sel.append(value)\n",
        "    i+=1\n",
        "  new_populat = []\n",
        "  while len(new_populat)<len(curr_populat):\n",
        "    index = np.random.randint(0, len(curr_populat), dtype = int)\n",
        "    rand = np.random.rand()\n",
        "    if rand<p_sel[index]:\n",
        "      new_populat.append(curr_populat[index])\n",
        "  return np.array(new_populat)"
      ]
    },
    {
      "cell_type": "code",
      "execution_count": null,
      "metadata": {
        "id": "U01Sr6Pxh8vI"
      },
      "outputs": [],
      "source": [
        "def crossover(parent_one, parent_two, len):\n",
        "  crossover_point = np.random.randint(1, len)\n",
        "  child_one = np.concatenate((parent_one[0:crossover_point], parent_two[crossover_point:len]), axis=None)\n",
        "  child_two = np.concatenate((parent_two[0:crossover_point], parent_one[crossover_point:len]), axis=None)\n",
        "  return np.array([child_one, child_two])"
      ]
    },
    {
      "cell_type": "code",
      "execution_count": null,
      "metadata": {
        "id": "Ek4FYOx0jnKu"
      },
      "outputs": [],
      "source": [
        "def mutation(mutation_prob, unit):\n",
        "  i = 0\n",
        "  new_unit=np.array(unit)\n",
        "  while i<len(new_unit):\n",
        "    rand = np.random.rand()\n",
        "    if rand<mutation_prob:\n",
        "      new_unit[i]=1-new_unit[i]\n",
        "    i+=1\n",
        "  return new_unit"
      ]
    },
    {
      "cell_type": "code",
      "execution_count": null,
      "metadata": {
        "id": "JfdHVaWbCXV7"
      },
      "outputs": [],
      "source": [
        "def crossover_and_mutation(population, crossover_prob, mutation_prob):\n",
        "  i = 0\n",
        "  new_population = []\n",
        "  indexes = np.arange(len(population))\n",
        "  while len(new_population)<len(population):\n",
        "    rand = np.random.rand()\n",
        "    sel_indexes = np.random.choice(indexes, 2)\n",
        "    if (rand<crossover_prob):\n",
        "      new_children = crossover(population[sel_indexes[0]], population[sel_indexes[1]], len(population[sel_indexes[0]]))\n",
        "      new_population.append(new_children[0])\n",
        "      new_population.append(new_children[1])\n",
        "    else: \n",
        "      new_population.append(population[sel_indexes[0]])\n",
        "      new_population.append(population[sel_indexes[1]])\n",
        "    indexes = np.setdiff1d(indexes, np.array([sel_indexes]))\n",
        "  while i<len(new_population):\n",
        "    new_population[i] = mutation(mutation_prob, new_population[i])\n",
        "    i+=1\n",
        "  return np.array(new_population)"
      ]
    },
    {
      "cell_type": "markdown",
      "metadata": {
        "id": "ZvGdc2LnP1-1"
      },
      "source": [
        "Funkcja **problem_func** implementuję funkcję celu, opisaną w poleceniu do danego ćwiczenia. Po przeanalizowaniu treści polecenia, zostały wyodrębnione najważniejsze reguły zachowania danej funkcji:\n",
        "\n",
        "\n",
        "*   Każdy gen, rozpatrywany jako jednostka czasowa, w danej funkcji jest interpretowany jako 1 sekunda czasu\n",
        "*   Jeżeli w danej jednostce czasu jest wykorzystywane paliwo, to przyspieszenie podczas danej jednostki czasu wynosi a = 500/m - 0.06(V*|v|/m) - 0.9, a ilość paliwa znajdująca się w rakiecie jest zmniejszana o 1 jednostkę\n",
        "*   Jeżeli w danej jednostce czasu nie jest wykorzystywane paliwo, to przyspieszenie w danej jednostce czasu wynosi a = - 0.06*velocity*(np.abs(velocity)/weight) - 0.9\n",
        "*   Prędkość w czasie, zgodnie z zagadnieniami kinematyki, zmienia się według wzoru v=v0 + at, gdzie t jest równe 1 sekunda (zgodnie z 1 punktem na liście), więc ostateczna postać *liczbowa* to v = v0 + a\n",
        "*   Osiągnieta wysokość, zgodnie z zagadnieniami kinematyki, zmienia się według wzoru s = v0t + at^2/2 , gdzie t jest równe 1 sekunda (zgodnie z 1 punktem na liście), więc ostateczna postać *liczbowa* to s = v0 + a/2\n"
      ]
    },
    {
      "cell_type": "code",
      "execution_count": null,
      "metadata": {
        "id": "CrP-5DjW_2Qf"
      },
      "outputs": [],
      "source": [
        "def problem_func(unit):\n",
        "  i = 0\n",
        "  height = 0\n",
        "  velocity = 0\n",
        "  fuel = np.sum(unit)\n",
        "  while i<len(unit):\n",
        "    weight = 20 + fuel\n",
        "    a = 0\n",
        "    if unit[i]==1:\n",
        "      a = 500/weight - 0.06*velocity*(np.abs(velocity)/weight) - 0.9\n",
        "      fuel-=1\n",
        "    else:\n",
        "      a = - 0.06*velocity*(np.abs(velocity)/weight) - 0.9\n",
        "    height += a/2 + velocity\n",
        "    velocity += a \n",
        "    i+=1\n",
        "  if height>=750:\n",
        "    return 200 - np.sum(unit)\n",
        "  else:\n",
        "    return 0"
      ]
    },
    {
      "cell_type": "markdown",
      "metadata": {
        "id": "-nNZo0YVkwTh"
      },
      "source": [
        "## Testowanie algorytmu"
      ]
    },
    {
      "cell_type": "markdown",
      "metadata": {
        "id": "GRY_qSqukxbr"
      },
      "source": [
        "### Określenie hiperparametrów i badanych funkcji\n",
        "Aby uzyskane wyniki były wystarczająco dokładne, została dobrana *liczba iteracji*, *liczebność populacji*, *prawdopodobieństwo mutacji* oraz *prawdopodobieństwo krzyżowania*. "
      ]
    },
    {
      "cell_type": "code",
      "execution_count": null,
      "metadata": {
        "id": "pyQcn7_9ZUJ2"
      },
      "outputs": [],
      "source": [
        "iterations = 1500 \n",
        "population_len = 60 \n",
        "chromosome_len = 200 \n",
        "p_m = 0.1\n",
        "p_c = 0.9 \n",
        "alg_iter = 25"
      ]
    },
    {
      "cell_type": "markdown",
      "metadata": {
        "id": "HeRZGUOs76bk"
      },
      "source": [
        "### Uruchomienie algorytmu dla z góry zdefiniowanych hiperparametrów\n",
        "\n",
        "Następnie został zaimplementowany i uruchomiony algorytm dla opisane wcześniej zestawu parametrów. Algorytm został uruchomiony 25 razy, jako że z natury losowości generacji populacji i dokonania operacji selekcji populacji, wynik uzyskany po jednokrotnym uruchomieniu może być \"skrajnym przypadkiem\" i nie reprezentować w wystarczająco dobry sposób możliwości algorytmu\n"
      ]
    },
    {
      "cell_type": "code",
      "execution_count": null,
      "metadata": {
        "colab": {
          "base_uri": "https://localhost:8080/"
        },
        "id": "Lnxb259K8djR",
        "outputId": "ca05a5fe-7115-48c2-bb9b-c47c82795f7c"
      },
      "outputs": [
        {
          "name": "stdout",
          "output_type": "stream",
          "text": [
            "Wartości maksymalne zysku dla każdej z iteracji:\n",
            "[121, 121, 120, 117, 124, 121, 119, 122, 117, 114, 119, 118, 117, 119, 121, 121, 115, 119, 116, 117, 116, 114, 112, 116, 116]\n",
            "Wynik uśredniony:\n",
            "118.08\n"
          ]
        }
      ],
      "source": [
        "j = 0\n",
        "max_rates = []\n",
        "while j<alg_iter:\n",
        "  i = 0\n",
        "  P = []\n",
        "  P0 = generate_population(population_len, chromosome_len)\n",
        "  rates = generate_rate(problem_func, P0)\n",
        "  P.append(P0)\n",
        "  while i<iterations:\n",
        "    Tt = selection(P[len(P)-1], rates)\n",
        "    Ot = crossover_and_mutation(Tt, p_c, p_m)\n",
        "    rates = generate_rate(problem_func, Ot)\n",
        "    P.append(Ot)\n",
        "    i+=1\n",
        "  max_rates.append(np.max(rates))\n",
        "  j+=1\n",
        "print(\"Wartości maksymalne zysku dla każdej z iteracji:\")\n",
        "print(max_rates)\n",
        "print(\"Wynik uśredniony:\")\n",
        "print(np.average(np.array(max_rates)))"
      ]
    },
    {
      "cell_type": "markdown",
      "metadata": {
        "id": "WyHCZ_Hor7IJ"
      },
      "source": [
        "## Badanie wpływu wybranych parametrów na wyniki\n",
        "\n",
        "Jednym z zadań tego ćwiczenia laboratoryjnego było *zbadanie wpływu wybranegoo hiperparametru*. Została jednak podjęta decyzja, aby zbadać wpływ zarówno jak prawdopodobieństwa mutacji, tak i prawdopodobieństwa krzyżowania na wynik końcowy działania algorytmu."
      ]
    },
    {
      "cell_type": "markdown",
      "metadata": {
        "id": "oWcqql9XCRvl"
      },
      "source": [
        "### Badanie wpływu wartości prawdopodobieńctwa mutacji na wynik końcowy\n",
        "Wpływ wartości prawdopodobieństwa został zbadany, poprzez wygenerowanie wyniku dla 9 różnych wartości tego hiperparametru: `0.1, 0.2, 0.3, 0.4, 0.5, 0.6, 0.7, 0.8, 0.9`. \n",
        "\n",
        "Podczas badania wartości pozostałych wyników wynosiły: prawdopodobieństwo krzyżowania równe 0.65, liczba iteracji równa 1500 i liczebność populacji równa 60. \n",
        "\n",
        "Z powodu tego, że eksperyment zajmuje około 5 godzin, aby nie czekać przez ten cały czas na próbki, wyniki uzyskane podczs jednego z eksperymentów zostały zapisane i zwizualizowane niżej."
      ]
    },
    {
      "cell_type": "code",
      "execution_count": null,
      "metadata": {
        "id": "Cma2JhbN_i-j"
      },
      "outputs": [],
      "source": [
        "p_m = [0.1, 0.2, 0.3, 0.4, 0.5, 0.6, 0.7, 0.8, 0.9]\n",
        "p_c = 0.65\n",
        "j = 0\n",
        "max_rates_p_m = np.zeros((len(p_m), alg_iter))\n",
        "while j<len(p_m):\n",
        "  k = 0\n",
        "  while k<alg_iter:\n",
        "    i = 0\n",
        "    P = []\n",
        "    P0 = generate_population(population_len, chromosome_len)\n",
        "    rates = generate_rate(problem_func, P0)\n",
        "    P.append(P0)\n",
        "    while i<iterations:\n",
        "      Tt = selection(P[len(P)-1], rates)\n",
        "      Ot = crossover_and_mutation(Tt, p_c, p_m[j])\n",
        "      rates = generate_rate(problem_func, Ot)\n",
        "      P.append(Ot)\n",
        "      i+=1\n",
        "    max_rates_p_m[j][k] = np.max(rates)\n",
        "    k+=1\n",
        "  j+=1"
      ]
    },
    {
      "cell_type": "code",
      "execution_count": null,
      "metadata": {
        "id": "AQmsqgWHKRxO"
      },
      "outputs": [],
      "source": [
        "p_m = [0.1, 0.2, 0.3, 0.4, 0.5, 0.6, 0.7, 0.8, 0.9]\n",
        "max_rates_p_m = [\n",
        "[125, 127, 117, 116, 115, 115, 124, 123, 121, 191, 120, 118, 117, 122, 116, 119, 117, 117, 121, 119, 112, 116, 118, 114, 116], \n",
        "[114, 112, 124, 118, 118, 119, 115, 114, 124, 117, 114, 122, 118, 121, 115, 116, 114, 117, 113, 118, 116, 115, 121, 123, 116],\n",
        "[121, 120, 119, 114, 119, 114, 117, 117, 119, 123, 114, 110, 123, 121, 113, 119, 118, 114, 120, 113, 119, 116, 118, 119, 113],\n",
        "[113, 116, 117, 118, 118, 115, 113, 122, 122, 115, 114, 120, 115, 118, 116, 119, 114, 113, 122, 114, 112, 117, 115, 117, 119],\n",
        "[119, 118, 119, 116, 123, 113, 118, 119, 113, 122, 120, 115, 112, 119, 119, 118, 111, 122, 123, 112, 113, 113, 115, 109, 117],\n",
        "[115, 116, 115, 118, 111, 112, 123, 113, 116, 112, 113, 121, 112, 120, 115, 114, 118, 117, 118, 117, 118, 115, 115, 116, 112],\n",
        "[117, 115, 116, 111, 116, 114, 118, 121, 116, 115, 119, 115, 116, 118, 112, 121, 117, 116, 115, 113, 116, 113, 111, 119, 116],\n",
        "[115, 125, 112, 119, 115, 124, 112, 114, 114, 115, 112, 118, 115, 119, 110, 113, 116, 115, 115, 117, 119, 120, 115, 117, 113],\n",
        "[122, 114, 117, 117, 115, 116, 114, 118, 122, 123, 119, 115, 116, 115, 114, 111, 114, 120, 112, 111, 114, 113, 133, 115, 120] \n",
        "]"
      ]
    },
    {
      "cell_type": "code",
      "execution_count": null,
      "metadata": {
        "colab": {
          "base_uri": "https://localhost:8080/",
          "height": 296
        },
        "id": "wtn0LFryScKO",
        "outputId": "9b931e41-26ae-435a-b932-b3d55db7216a"
      },
      "outputs": [
        {
          "name": "stdout",
          "output_type": "stream",
          "text": [
            "Visialization of the influence of the parameter called probabilitty of mutation on the result\n",
            "\n"
          ]
        },
        {
          "data": {
            "image/png": "[encoded data removed]",
            "text/plain": [
              "<Figure size 432x288 with 1 Axes>"
            ]
          },
          "metadata": {
            "needs_background": "light"
          },
          "output_type": "display_data"
        }
      ],
      "source": [
        "print(\"Visialization of the influence of the parameter called probabilitty of mutation on the result\", end=\"\\n\\n\")\n",
        "fig, ax = plt.subplots()\n",
        "ax.boxplot(max_rates_p_m, showfliers=False)\n",
        "plt.xticks([1,2,3,4,5,6,7,8,9], p_m)\n",
        "plt.show()"
      ]
    },
    {
      "cell_type": "markdown",
      "metadata": {
        "id": "FVxIGsjxXM5o"
      },
      "source": [
        "### Badanie wpływu wartości prawdopodobieńctwa krzyżowania na wynik końcowy\n",
        "\n",
        "Wpływ wartości prawdopodobieństwa został zbadany, poprzez wygenerowanie wyniku dla 9 różnych wartości tego hiperparametru: `0.1, 0.2, 0.3, 0.4, 0.5, 0.6, 0.7, 0.8, 0.9`. \n",
        "\n",
        "Podczas badania wartości pozostałych wyników wynosiły: prawdopodobieństwo mutacji równe 0.45, liczba iteracji równa 1500 i liczebność populacji równa 60. \n",
        "\n",
        "Z powodu tego, że eksperyment zajmuje około 5 godzin, aby nie czekać przez ten cały czas na próbki, wyniki uzyskane podczs jednego z eksperymentów zostały zapisane i zwizualizowane niżej."
      ]
    },
    {
      "cell_type": "code",
      "execution_count": null,
      "metadata": {
        "colab": {
          "background_save": true
        },
        "id": "NWXw39AtwZpS"
      },
      "outputs": [],
      "source": [
        "p_c = [0.1, 0.2, 0.3, 0.4, 0.5, 0.6, 0.7, 0.8, 0.9]\n",
        "p_m = 0.45\n",
        "j = 0\n",
        "max_rates_p_c = np.zeros((len(p_c), alg_iter))\n",
        "while j<len(p_c):\n",
        "  k = 0\n",
        "  while k<alg_iter:\n",
        "    i = 0\n",
        "    P = []\n",
        "    P0 = generate_population(population_len, chromosome_len)\n",
        "    rates = generate_rate(problem_func, P0)\n",
        "    P.append(P0)\n",
        "    while i<iterations:\n",
        "      Tt = selection(P[len(P)-1], rates)\n",
        "      Ot = crossover_and_mutation(Tt, p_c[j], p_m)\n",
        "      rates = generate_rate(problem_func, Ot)\n",
        "      P.append(Ot)\n",
        "      i+=1\n",
        "    max_rates_p_c[j][k] = np.max(rates)\n",
        "    k+=1\n",
        "  j+=1\n",
        "print(max_rates_p_c)"
      ]
    },
    {
      "cell_type": "code",
      "execution_count": null,
      "metadata": {
        "id": "Mx5Xm34BOGcy"
      },
      "outputs": [],
      "source": [
        "p_c = [0.1, 0.2, 0.3, 0.4, 0.5, 0.6, 0.7, 0.8, 0.9]\n",
        "max_rates_p_c = [\n",
        "[118, 115, 112, 124, 115, 115, 116, 124, 117, 113, 115, 117, 115, 113, 114, 114, 120, 112, 115, 119, 120, 118, 116, 115, 113],\n",
        "[111, 114, 118, 118, 120, 117, 116, 113, 111, 119, 118, 115, 116, 116, 112, 116, 114, 112, 120, 118, 118, 116, 117, 111, 119],\n",
        "[112, 113, 113, 115, 115, 113, 118, 117, 113, 116, 117, 114, 117, 112, 123, 118, 120, 114, 114, 114, 113, 116, 117, 114, 115],\n",
        "[128, 116, 116, 113, 113, 116, 119, 125, 125, 117, 119, 116, 117, 113, 116, 116, 116, 118, 113, 115, 118, 113, 121, 113, 111],\n",
        "[113, 116, 115, 117, 115, 120, 122, 113, 117, 115, 118, 119, 115, 116, 116, 117, 113, 117, 115, 119, 115, 117, 112, 119, 116],\n",
        "[117, 117, 116, 115, 116, 118, 117, 116, 115, 115, 112, 117, 114, 111, 117, 113, 114, 117, 118, 121, 115, 113, 116, 118, 117],\n",
        "[114, 118, 115, 114, 116, 116, 118, 117, 116, 116, 114, 115, 117, 113, 115, 117, 115, 114, 119, 118, 117, 112, 112, 115, 120],\n",
        "[119, 119, 115, 116, 121, 118, 118, 120, 114, 118, 117, 113, 116, 115, 116, 121, 115, 120, 112, 119, 114, 115, 120, 115, 112],\n",
        "[115, 120, 113, 116, 118, 114, 114, 116, 123, 122, 121, 123, 119, 117, 114, 120, 115, 113, 117, 114, 117, 114, 118, 118, 117]\n",
        "]"
      ]
    },
    {
      "cell_type": "code",
      "execution_count": null,
      "metadata": {
        "colab": {
          "base_uri": "https://localhost:8080/",
          "height": 296
        },
        "id": "aeXA5Gm6TF8h",
        "outputId": "10424609-6282-433b-de0d-ac87c74b9f97"
      },
      "outputs": [
        {
          "name": "stdout",
          "output_type": "stream",
          "text": [
            "Visialization of the influence of the parameter called probabilitty of crossover on the result\n",
            "\n"
          ]
        },
        {
          "data": {
            "image/png": "[encoded data removed]",
            "text/plain": [
              "<Figure size 432x288 with 1 Axes>"
            ]
          },
          "metadata": {
            "needs_background": "light"
          },
          "output_type": "display_data"
        }
      ],
      "source": [
        "print(\"Visialization of the influence of the parameter called probabilitty of crossover on the result\", end=\"\\n\\n\")\n",
        "fig, ax = plt.subplots()\n",
        "ax.boxplot(max_rates_p_c, showfliers=False)\n",
        "plt.xticks([1,2,3,4,5,6,7,8,9], p_c)\n",
        "plt.show()"
      ]
    },
    {
      "cell_type": "markdown",
      "metadata": {
        "id": "4wJEQjFXXgrA"
      },
      "source": [
        "## Wnioski i obserwacje\n",
        "Na podstaiwe otrzymanych wyników można zrobić wniosek, że algorytm ten działa dosyć sprawnie, średnio osiągając w wyniku wartość około 118-119. Dla danego przypadku możemy zauważyć, że wartość prawdopodobieństwa mutacji miała nieco większy wpływ na otrzymany wynik, niż prawdopodobieństwo krzyżowania (rozrzut wartości jest większy dla różnych wartości tego parametru). Maksymalna wartość, którą udało się uzyskać podczas eksperymentu to 127, jednak pewnie istnieją rozwiązania lepsze od tego, przykładowo dla większej liczby iteracji lub innego zestawu hiperparametrów, niż wybrany w danej pracy (dobieranie wartości hiperparametrów w danym przypadku było zadaniem bardzo czasochłonnym i pewnie są sprytniejsze/zautomatyzowane sposoby na poszukiwanie tego najlepszego zestawu)."
      ]
    }
  ],
  "metadata": {
    "colab": {
      "collapsed_sections": [],
      "name": "WSI_CWI2_Levchenko.ipynb",
      "provenance": [],
      "toc_visible": true
    },
    "kernelspec": {
      "display_name": "Python 3",
      "name": "python3"
    },
    "language_info": {
      "name": "python"
    }
  },
  "nbformat": 4,
  "nbformat_minor": 0
}
