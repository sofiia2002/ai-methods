{
  "cells": [
    {
      "cell_type": "markdown",
      "metadata": {
        "id": "eCgq1GQw2LJ5"
      },
      "source": [
        "# **Regresja i klasyfikacja**\n",
        "# Wykonawca - Levchenko Sofiia"
      ]
    },
    {
      "cell_type": "markdown",
      "metadata": {
        "id": "OGhGzdZQ2eU5"
      },
      "source": [
        "## Wstęp\n",
        "Na tym ćwiczeniu zajęliśmy się implementacją drzew decyzyjnych tworzonych algorytmem ID3 z ograniczeniem maksymalnej głębokości drzewa. Następnie należało wykorzystać dany algorytm do stworzenia i zbadania jakości klasyfikatora dla danego zbioru (w naszym przypadku to był zbiór *breast cancer*)."
      ]
    },
    {
      "cell_type": "markdown",
      "metadata": {
        "id": "DuJN4ONb2gPu"
      },
      "source": [
        "### Wykorzystane narzędzia\n",
        "\n",
        "W celu *implementacji* wyżej wspomnianego algorytmu, zostały wykorzystane pakie biblioteki jak `numpy` oraz `random`.\n",
        "\n",
        "Pierwsza wspomniana biblioteka pozwala na swobodne posługiwanie się podstawowymi metodami obliczeń numerycznych oraz obsługiwanie tablic i słowników niezbędnych do interpretacji drzewadecyzyjnego, a druga została wykorzystana w celu generowania liczb losowych z pewnego przedziału. \n",
        "\n",
        "Kolejne biblioteki, czyli `pandas`, `matplotlib`, `tabulate`, `seaborn` oraz `pprint` zostały wykorzystane do *przetworzenia* otrzymanych wyników (i do załadowania zbioru danych z otrzymanego pliku) oraz ich *wizualizacji* w postaci czytelnej dla człowieka."
      ]
    },
    {
      "cell_type": "code",
      "execution_count": 265,
      "metadata": {
        "id": "dDIIVWcS9fyD"
      },
      "outputs": [],
      "source": [
        "import numpy as np\n",
        "import pandas as pd\n",
        "import random\n",
        "import matplotlib.pyplot as plt\n",
        "from tabulate import tabulate\n",
        "import seaborn as sn\n",
        "import pprint"
      ]
    },
    {
      "cell_type": "markdown",
      "metadata": {
        "id": "tE1Nq289tTSD"
      },
      "source": [
        "Zanim została zaczęta praca nad implementacją algorytmu, został załadowany zbiór danych z pliku `breast-cancer.txt`, następnie kolejne wierze tego plku zostały pomieszane, również zostały wyrzucone dane o zerowj wartości zysku informacyjnego (chodzi tutaj o przypadek, pascjenci o tych samych parametrach mają różne przydzielonee klasy) oraz zostały wyrzucone wiersze, w których przynajmniej jedna z wartości jest nieznana (w naszym przypadku, jest równa \"?\")."
      ]
    },
    {
      "cell_type": "code",
      "execution_count": 266,
      "metadata": {
        "id": "O0bImGKzGc4Y"
      },
      "outputs": [],
      "source": [
        "data = pd.read_csv(\"breast-cancer.txt\", names=[\"class\", \"age\", \"menopause\", \"tumor-size\", \"inv-nodes\", \"node-caps\", \"deg-malig\", \"breast\", \"breast-quad\", \"irradiat\"])\n",
        "data = data.sample(frac=1, random_state=42).reset_index(drop=True)\n",
        "data = data.drop_duplicates(subset=[\"class\", \"age\", \"menopause\", \"tumor-size\", \"inv-nodes\", \"node-caps\", \"deg-malig\", \"breast\", \"breast-quad\"])\n",
        "data = data[~(data == '?').any(axis=1)]"
      ]
    },
    {
      "cell_type": "markdown",
      "metadata": {
        "id": "3ZoU6Qfm2jhg"
      },
      "source": [
        "## Implementacja algorytmu"
      ]
    },
    {
      "cell_type": "markdown",
      "metadata": {
        "id": "JQTeqVNvv2Wp"
      },
      "source": [
        "Aby zaimplementować algorytm, najpierw zostały wprowadzone funkcje pomocnicze do obliczania wartości entropii atrybutu niezależnie od innych atrybutów, czyli **calc_entropy**, też została wprowadzona funkcja do obliczenia entropii atrybutu w zbiorze (aby na jeg podstawie potem dało się obliczyć zysk informacyjny), czyli **calc_entropy_attribute**, jak zostało wspomniano wcześniej, też mamy funkcję, która oblicza zysk informacyjny wszystkich atrybutów i zwraca największy (ten atrybut potem zostaje się liściem w bieżącym drzewie), tą funkcją jest **find_max_gain**. "
      ]
    },
    {
      "cell_type": "markdown",
      "metadata": {
        "id": "b5_1AkqN2n4w"
      },
      "source": [
        "### Funkcje pomocnicze do implementacji algorytmu"
      ]
    },
    {
      "cell_type": "code",
      "execution_count": 267,
      "metadata": {
        "id": "WBB9gzmXL1A7"
      },
      "outputs": [],
      "source": [
        "def calc_entropy(data):\n",
        "    class_name = data.keys()[-1]  \n",
        "    entropy = 0\n",
        "    values = data[class_name].unique()\n",
        "    for value in values:\n",
        "        fraction = data[class_name].value_counts()[value]/len(data[class_name])\n",
        "        entropy += -fraction*np.log2(fraction)\n",
        "    return entropy"
      ]
    },
    {
      "cell_type": "code",
      "execution_count": 268,
      "metadata": {
        "id": "qhiVJkO7L89F"
      },
      "outputs": [],
      "source": [
        "def calc_entropy_attribute(data, attribute):\n",
        "  class_name = data.keys()[-1]  \n",
        "  target_variables = data[class_name].unique() \n",
        "  features = data[attribute].unique()\n",
        "  entropy_overall = 0\n",
        "  eps = np.finfo(float).eps\n",
        "  for feature in features:\n",
        "      entropy = 0\n",
        "      for target_variable in target_variables:\n",
        "          nominator = len(data[attribute][data[attribute]==feature][data[class_name] ==target_variable])\n",
        "          denominator = len(data[attribute][data[attribute]==feature])\n",
        "          fraction = nominator/(denominator+eps)\n",
        "          entropy += -fraction*np.log2(fraction+eps)\n",
        "      fraction_overall = denominator/len(data)\n",
        "      entropy_overall += -fraction_overall*entropy\n",
        "  return abs(entropy_overall)"
      ]
    },
    {
      "cell_type": "code",
      "execution_count": 269,
      "metadata": {
        "id": "IGioACjOMcCo"
      },
      "outputs": [],
      "source": [
        "def find_max_gain(data):\n",
        "    info_gain = []\n",
        "    for key in data.keys()[:-1]:\n",
        "        info_gain.append(calc_entropy(data)-calc_entropy_attribute(data,key))\n",
        "    return data.keys()[:-1][np.argmax(info_gain)]"
      ]
    },
    {
      "cell_type": "markdown",
      "metadata": {
        "id": "uCBMaZ232sgJ"
      },
      "source": [
        "### Funkcja implementująca algorytm ID3 do tworzenia drzewa decyzyjnego"
      ]
    },
    {
      "cell_type": "markdown",
      "metadata": {
        "id": "Rv_fOKdbMBjM"
      },
      "source": [
        "W tej sekcji został zaimplementowany algorytm ID3 (funckja **build_tree**), do którego jest przekazywany zbiór danych które pomagają w trenowaniu naszego modelu, maksymalna głębokość drzewa oraz bieżąca głębokość drzewa decyzyjnego. Również dało by się przekazywać nazwę atrybutu, odpowiadającego za klasę, jednak zostało to zapisane wewnątrz funckji jako `data.keys()[-1]`, wykorzystując założenie, że zawsze atrybut ten będzie w ostaniej kolumnie przekazywanego zbioru. Tak samo się dzieje z wyznaczaniem unikatowych atrybutów dla liścia z największym zyskiem informacyjnym."
      ]
    },
    {
      "cell_type": "code",
      "execution_count": 270,
      "metadata": {
        "id": "x188ghYwOugv"
      },
      "outputs": [],
      "source": [
        "def build_tree(data, max_depth, depth=0):\n",
        "  class_name = data.keys()[-1]\n",
        "  node = find_max_gain(data)\n",
        "  attributes = np.unique(data[node])\n",
        "  tree = {}\n",
        "  tree[node] = {} \n",
        "  for value in attributes:  \n",
        "    subtable = data[data[node] == value].reset_index(drop=True)\n",
        "    clValue, counts = np.unique(subtable[class_name],return_counts=True)\n",
        "    if len(counts)==1:\n",
        "      tree[node][value] = clValue[0]\n",
        "    elif int(depth/2) >= max_depth - 1:\n",
        "      if counts[0] > counts[1]:\n",
        "        tree[node][value] =  clValue[0] \n",
        "      elif counts[0] < counts[1]:\n",
        "        tree[node][value] =  clValue[1] \n",
        "      else:\n",
        "        tree[node][value] =  clValue[random.randint(0, 1)] \n",
        "    else:\n",
        "      tree[node][value] = build_tree(subtable, max_depth, depth + 2)\n",
        "  return tree"
      ]
    },
    {
      "cell_type": "markdown",
      "metadata": {
        "id": "naeoWStZ29Zf"
      },
      "source": [
        "### Funkcje pomocnicze do testowania algorytmu"
      ]
    },
    {
      "cell_type": "markdown",
      "metadata": {
        "id": "5K1J7PdBNrV5"
      },
      "source": [
        "Aby później udało się sprawnie przetestować działanie zaimplementowanego algorytmu, zostały wprowadzone kolejne dwie funkcje - **predict_value** do przypisania predykcji klasy oraz **walidate** do przeprowadzeniapredykcji dla każdej wartości z przekazanego zbioru oraz zebrania podstawowych statystyk.\n"
      ]
    },
    {
      "cell_type": "code",
      "execution_count": 271,
      "metadata": {
        "id": "tTpufdwJR7oR"
      },
      "outputs": [],
      "source": [
        "def predict_value(data, tree):\n",
        "  attr = list(tree.keys())\n",
        "  value = data[attr].values[0][0]\n",
        "  if not tree[attr[0]].get(value):\n",
        "    return \"Can't predict value\"\n",
        "  if type(tree[attr[0]][value]) is str:\n",
        "    return tree[attr[0]][value]\n",
        "  else: \n",
        "    return predict_value(data, tree[attr[0]][value])"
      ]
    },
    {
      "cell_type": "code",
      "execution_count": 272,
      "metadata": {
        "id": "xkpfF0DJSKk8"
      },
      "outputs": [],
      "source": [
        "def walidate(walidating_set, tree):\n",
        "  true_negatives = 0\n",
        "  true_positives = 0\n",
        "  false_negatives = 0\n",
        "  false_positives = 0\n",
        "  cant_predict = 0\n",
        "  result = []\n",
        "  for n in range(0, len(walidating_set)): \n",
        "    value = predict_value(walidating_set[n:n+1], tree)\n",
        "    if (value == \"yes\") and (value == walidating_set[n:n+1].iloc[0][\"irradiat\"]):\n",
        "      true_positives+=1\n",
        "    elif (value == \"no\") and (value == walidating_set[n:n+1].iloc[0][\"irradiat\"]):\n",
        "      true_negatives+=1\n",
        "    elif (value == \"no\") and (value != walidating_set[n:n+1].iloc[0][\"irradiat\"]):\n",
        "      false_negatives+=1\n",
        "    elif (value == \"yes\") and (value != walidating_set[n:n+1].iloc[0][\"irradiat\"]):\n",
        "      false_positives+=1\n",
        "    else:\n",
        "      cant_predict+=1\n",
        "    result.append([value, walidating_set[n:n+1].iloc[0][\"irradiat\"]])\n",
        "  accuracy = (true_negatives+true_positives)/(true_negatives+true_positives+false_negatives+false_positives)\n",
        "  array = np.array([true_negatives, true_positives, false_negatives, false_positives, cant_predict]);\n",
        "  return array, accuracy, result"
      ]
    },
    {
      "cell_type": "markdown",
      "metadata": {
        "id": "6zXN4_A03J5N"
      },
      "source": [
        "### Testowanie działania zaimpelementowanych funkcji"
      ]
    },
    {
      "cell_type": "markdown",
      "metadata": {
        "id": "Tq6X13uLOTf-"
      },
      "source": [
        "Zanim przeszliśmy do etapu walidacji algorytmu i odnajdywania najlepszego zestawu parametrów, algorytm został przetestowany dla podziału 0.7:0.2:0.1 zbioru danych na zbiór trenujący, walidacyjny oraz testowy i dla głębokości drzewa równej 3 została obliczona dokłądność uzyskiwanego wyniku dla zbioru trenującego.\n",
        "\n",
        "Również zostało pokazane zbudowane drzewo, na podstawie którego były robione predykcje dla wyżej wspomnianego zbioru."
      ]
    },
    {
      "cell_type": "code",
      "execution_count": 278,
      "metadata": {
        "colab": {
          "base_uri": "https://localhost:8080/"
        },
        "id": "vrOzZdz-QbYj",
        "outputId": "b3337982-a4bb-4b4f-dc15-1a4711d6d590"
      },
      "outputs": [
        {
          "name": "stdout",
          "output_type": "stream",
          "text": [
            "Accuracy:  0.9120879120879121\n",
            "\n",
            "Drzewo decyzyjne:\n",
            "{'inv-nodes': {'0-2': {'tumor-size': {'0-4': 'no',\n",
            "                                      '10-14': {'age': {'30-39': 'no',\n",
            "                                                        '40-49': 'no',\n",
            "                                                        '50-59': 'no',\n",
            "                                                        '60-69': 'no'}},\n",
            "                                      '15-19': {'breast-quad': {'central': 'yes',\n",
            "                                                                'left_low': 'no',\n",
            "                                                                'left_up': 'no',\n",
            "                                                                'right_low': 'no'}},\n",
            "                                      '20-24': {'deg-malig': {1: 'no',\n",
            "                                                              2: 'no',\n",
            "                                                              3: 'no'}},\n",
            "                                      '25-29': {'class': {'no-recurrence-events': 'no',\n",
            "                                                          'recurrence-events': 'no'}},\n",
            "                                      '30-34': {'age': {'30-39': 'no',\n",
            "                                                        '40-49': 'no',\n",
            "                                                        '50-59': 'no',\n",
            "                                                        '60-69': 'no'}},\n",
            "                                      '35-39': {'node-caps': {'no': 'no',\n",
            "                                                              'yes': 'yes'}},\n",
            "                                      '40-44': {'age': {'30-39': 'yes',\n",
            "                                                        '40-49': 'no',\n",
            "                                                        '50-59': 'no',\n",
            "                                                        '60-69': 'no',\n",
            "                                                        '70-79': 'no'}},\n",
            "                                      '45-49': 'yes',\n",
            "                                      '5-9': 'yes',\n",
            "                                      '50-54': {'age': {'40-49': 'yes',\n",
            "                                                        '50-59': 'no',\n",
            "                                                        '60-69': 'no'}}}},\n",
            "               '12-14': 'yes',\n",
            "               '15-17': {'age': {'40-49': 'yes', '50-59': 'no'}},\n",
            "               '3-5': {'breast-quad': {'central': {'class': {'no-recurrence-events': 'no',\n",
            "                                                             'recurrence-events': 'yes'}},\n",
            "                                       'left_low': {'tumor-size': {'20-24': 'no',\n",
            "                                                                   '25-29': 'yes',\n",
            "                                                                   '30-34': 'no',\n",
            "                                                                   '40-44': 'no'}},\n",
            "                                       'left_up': {'age': {'30-39': 'yes',\n",
            "                                                           '40-49': 'yes',\n",
            "                                                           '50-59': 'no',\n",
            "                                                           '60-69': 'yes'}},\n",
            "                                       'right_up': 'no'}},\n",
            "               '6-8': {'tumor-size': {'10-14': 'yes',\n",
            "                                      '15-19': 'yes',\n",
            "                                      '25-29': 'yes',\n",
            "                                      '30-34': 'no',\n",
            "                                      '35-39': 'no',\n",
            "                                      '40-44': 'yes',\n",
            "                                      '45-49': 'no'}},\n",
            "               '9-11': {'tumor-size': {'25-29': 'no',\n",
            "                                       '30-34': 'yes',\n",
            "                                       '35-39': {'class': {'no-recurrence-events': 'yes',\n",
            "                                                           'recurrence-events': 'no'}},\n",
            "                                       '50-54': 'no'}}}}\n"
          ]
        }
      ],
      "source": [
        "data = data.sample(frac=1, random_state=42).reset_index(drop=True)\n",
        "slice_point1 = np.floor(len(data)*0.7).astype(int)\n",
        "slice_point2 = np.floor(len(data)*0.9).astype(int)\n",
        "training_set = data.iloc[0:slice_point1, :]\n",
        "walidating_set = data.iloc[slice_point1 + 1: slice_point2, :]\n",
        "testing_set = data.iloc[slice_point2 + 1: len(data) - 1, :]\n",
        "tree = build_tree(training_set, 3)\n",
        "array, accuracy, result = walidate(training_set, tree)\n",
        "print(\"Accuracy: \", accuracy)\n",
        "print(\"\\nDrzewo decyzyjne:\")\n",
        "pprint.pprint(tree)"
      ]
    },
    {
      "cell_type": "markdown",
      "metadata": {
        "id": "P4LLjHqdE2lb"
      },
      "source": [
        "## Ocena jakości algorytmu, dobór hiperparametrów"
      ]
    },
    {
      "cell_type": "markdown",
      "metadata": {
        "id": "tsSDX3zaPYGm"
      },
      "source": [
        "Kolejnym etapem trenowania naszego modelu, było dobranie właściwych hiperparametrów, które by pozwalały na uzyskanie maksymalnie dużej dokładności uzyskiwanych wyników. \n",
        "\n",
        "Aby testowanie przebiegło pomyślnie i nie było uzależnione od tego, jak zostały umieszczone dane w zbiorze, badania (a właściwie tworzenie drzewa decyzyjnego) zostały przeprowadzone po kilka razy, gdzie za każdym razem wierze zbioru zostały pomieszane między sobą.\n",
        "\n",
        "Zbadany został wpływ takich hiperparametrów jak punkt podziału zbioru danych (w jakim mieejscu dzielimy. zbiór na dane trenujące i dane walidazyjne) oraz głębokość drzewa decyzyjnego (aby uniknąć przeuczania się modelu)."
      ]
    },
    {
      "cell_type": "markdown",
      "metadata": {
        "id": "nDRRA66w3eKu"
      },
      "source": [
        "### Definiowanie parametrów do testowania"
      ]
    },
    {
      "cell_type": "code",
      "execution_count": null,
      "metadata": {
        "id": "CViVOSqNDoxB"
      },
      "outputs": [],
      "source": [
        "slicing_part = [0.4, 0.45, 0.5, 0.55, 0.6, 0.65, 0.7]\n",
        "slicing_part_test = 0.8\n",
        "depths = [1, 2, 3, 4, 5, 6, 7]\n",
        "depth = 4\n",
        "iter = 15"
      ]
    },
    {
      "cell_type": "markdown",
      "metadata": {
        "id": "Qn3VnGeC3ksz"
      },
      "source": [
        "### Ocena wpływu wyboru punktu podziału zbioru danych na podzbiory (liczności zbioru trenującego)"
      ]
    },
    {
      "cell_type": "code",
      "execution_count": null,
      "metadata": {
        "id": "I23Y3j0lCGZM"
      },
      "outputs": [],
      "source": [
        "slice_point2 = np.floor(len(data)*0.9).astype(int)\n",
        "results_slice = []\n",
        "tree = None\n",
        "for i in range(len(slicing_part)):\n",
        "  part_results = []\n",
        "  training_set = []\n",
        "  walidating_set = []\n",
        "  for j in range(iter):\n",
        "    slice_point1 = np.floor(len(data)*slicing_part[i]).astype(int)\n",
        "    data = data.sample(frac=1, random_state=42).reset_index(drop=True)\n",
        "    training_set = data.iloc[0:slice_point1, :]\n",
        "    walidating_set = data.iloc[slice_point1 + 1: slice_point2, :]\n",
        "    testing_set = data.iloc[slice_point2 + 1: len(data) - 1, :]\n",
        "    tree = build_tree(training_set, depths[i])\n",
        "    array1, accuracy1, result1 = walidate(training_set, tree)\n",
        "    array2, accuracy2, result2 = walidate(walidating_set, tree)\n",
        "    part_results.append(np.array([accuracy1, accuracy2]));\n",
        "  results_slice.append(part_results)"
      ]
    },
    {
      "cell_type": "code",
      "execution_count": null,
      "metadata": {
        "id": "FvU4b-bQITjk"
      },
      "outputs": [],
      "source": [
        "raw_results_train_slice = []\n",
        "raw_results_walid_slice = []\n",
        "for i in range(len(results_slice)):\n",
        "  df = pd.DataFrame(results_slice[i])\n",
        "  df_res = df.transpose()\n",
        "  raw_results_train_slice.append(df_res.iloc[1, :])\n",
        "  raw_results_walid_slice.append(df_res.iloc[0, :])"
      ]
    },
    {
      "cell_type": "code",
      "execution_count": null,
      "metadata": {
        "colab": {
          "base_uri": "https://localhost:8080/",
          "height": 265
        },
        "id": "97FHXjV4CDrE",
        "outputId": "9696b5cd-808d-4407-a6da-ce6599aadaa5"
      },
      "outputs": [
        {
          "data": {
            "image/png": "[encoded data removed]",
            "text/plain": [
              "<Figure size 432x288 with 1 Axes>"
            ]
          },
          "metadata": {
            "needs_background": "light"
          },
          "output_type": "display_data"
        }
      ],
      "source": [
        "fig, ax = plt.subplots()\n",
        "ax.boxplot(raw_results_walid_slice, showfliers=False)\n",
        "plt.xticks([1,2,3,4,5,6,7], slicing_part)\n",
        "plt.ylabel(\"Accuracy\")\n",
        "plt.xlabel(\"Slicing point\")\n",
        "plt.show()"
      ]
    },
    {
      "cell_type": "code",
      "execution_count": null,
      "metadata": {
        "colab": {
          "base_uri": "https://localhost:8080/",
          "height": 265
        },
        "id": "k21c6-WcCEY6",
        "outputId": "a53b179c-2f91-4a5e-c8d7-7e5595c53a76"
      },
      "outputs": [
        {
          "data": {
            "image/png": "[encoded data removed]",
            "text/plain": [
              "<Figure size 432x288 with 1 Axes>"
            ]
          },
          "metadata": {
            "needs_background": "light"
          },
          "output_type": "display_data"
        }
      ],
      "source": [
        "fig, ax = plt.subplots()\n",
        "ax.boxplot(raw_results_train_slice, showfliers=False)\n",
        "plt.xticks([1,2,3,4,5,6,7], slicing_part)\n",
        "plt.ylabel(\"Accuracy\")\n",
        "plt.xlabel(\"Slicing point\")\n",
        "plt.show()"
      ]
    },
    {
      "cell_type": "markdown",
      "metadata": {
        "id": "T7i7-aL8Qgkd"
      },
      "source": [
        "Możemy zauważyć, że dla zbioru danych przeznaczonych dla trenowania, im większy był zbiór danych, tym lepsze były uzyskiwane wyniki (co jest naturalne, jako że im więcej mamy danych, tym większa jest szansa, że dla zostaną wykryte dodatkowe gałęzie drzewa), jednak dla zbioru walidacyjnego szczyt (największa średnia wartość przy. możliwie najmniejszym odchyleniu standardowym) jest osiągany dla wartości bliskiej 0.6."
      ]
    },
    {
      "cell_type": "markdown",
      "metadata": {
        "id": "0i5UEza33xKm"
      },
      "source": [
        "### Ocena wpływu głębokości drzewa decyzyjnego\n"
      ]
    },
    {
      "cell_type": "code",
      "execution_count": null,
      "metadata": {
        "id": "xXPb8mh8EyM-"
      },
      "outputs": [],
      "source": [
        "slice_point1 = np.floor(len(data)*0.6).astype(int)\n",
        "slice_point2 = np.floor(len(data)*0.9).astype(int)\n",
        "depths = [1,2,3,4,5,6,7]\n",
        "results_depth = []\n",
        "for i in range(len(depths)):\n",
        "  training_set = []\n",
        "  walidating_set = []\n",
        "  part_results = []\n",
        "  for j in range(iter):\n",
        "    data = data.sample(frac=1, random_state=42).reset_index(drop=True)\n",
        "    training_set = data.iloc[0:slice_point1, :]\n",
        "    walidating_set = data.iloc[slice_point1 + 1: slice_point2, :]\n",
        "    testing_set = data.iloc[slice_point2 + 1: len(data) - 1, :]\n",
        "    tree = build_tree(training_set, depths[i])\n",
        "    array1, accuracy1, result1 = walidate(training_set, tree)\n",
        "    array2, accuracy2, result2 = walidate(walidating_set, tree)\n",
        "    part_results.append(np.array([accuracy1, accuracy2]));\n",
        "  results_depth.append(part_results)"
      ]
    },
    {
      "cell_type": "code",
      "execution_count": null,
      "metadata": {
        "id": "QzC8FfssCvd3"
      },
      "outputs": [],
      "source": [
        "raw_results_train_depth = []\n",
        "raw_results_walid_depth = []\n",
        "for i in range(len(results_depth)):\n",
        "  df = pd.DataFrame(results_depth[i])\n",
        "  df_res = df.transpose()\n",
        "  raw_results_walid_depth.append(df_res.iloc[1, :])\n",
        "  raw_results_train_depth.append(df_res.iloc[0, :])"
      ]
    },
    {
      "cell_type": "code",
      "execution_count": null,
      "metadata": {
        "colab": {
          "base_uri": "https://localhost:8080/",
          "height": 265
        },
        "id": "tctWAX3nFnBB",
        "outputId": "6770b5ce-1b10-440c-e09e-aa1340d4f911"
      },
      "outputs": [
        {
          "data": {
            "image/png": "[encoded data removed]",
            "text/plain": [
              "<Figure size 432x288 with 1 Axes>"
            ]
          },
          "metadata": {
            "needs_background": "light"
          },
          "output_type": "display_data"
        }
      ],
      "source": [
        "fig, ax = plt.subplots()\n",
        "ax.boxplot(raw_results_walid_depth, showfliers=False)\n",
        "plt.xticks([1,2,3,4,5,6,7], depths)\n",
        "plt.show()"
      ]
    },
    {
      "cell_type": "code",
      "execution_count": null,
      "metadata": {
        "colab": {
          "base_uri": "https://localhost:8080/",
          "height": 265
        },
        "id": "UALBkruRFoxB",
        "outputId": "07feff6c-5e69-4249-e9a5-c1ab72db6987"
      },
      "outputs": [
        {
          "data": {
            "image/png": "[encoded data removed]",
            "text/plain": [
              "<Figure size 432x288 with 1 Axes>"
            ]
          },
          "metadata": {
            "needs_background": "light"
          },
          "output_type": "display_data"
        }
      ],
      "source": [
        "fig, ax = plt.subplots()\n",
        "ax.boxplot(raw_results_train_depth, showfliers=False)\n",
        "plt.xticks([1,2,3,4,5,6,7], depths)\n",
        "plt.show()"
      ]
    },
    {
      "cell_type": "code",
      "execution_count": null,
      "metadata": {
        "colab": {
          "base_uri": "https://localhost:8080/",
          "height": 265
        },
        "id": "ri8ggVHUUXT1",
        "outputId": "cf394f8b-c106-47e0-c150-6974f1746dc8"
      },
      "outputs": [
        {
          "data": {
            "image/png": "[encoded data removed]",
            "text/plain": [
              "<Figure size 432x288 with 1 Axes>"
            ]
          },
          "metadata": {
            "needs_background": "light"
          },
          "output_type": "display_data"
        }
      ],
      "source": [
        "aggregated_train_values = pd.DataFrame(raw_results_train_depth).transpose().agg([np.mean, np.std])\n",
        "aggregated_walidation_values = pd.DataFrame(raw_results_walid_depth).transpose().agg([np.mean, np.std])\n",
        "plt.errorbar(depths, aggregated_train_values.iloc[0, :], yerr=aggregated_train_values.iloc[1, :], fmt='-o', label = \"train data\")\n",
        "plt.errorbar(depths, aggregated_walidation_values.iloc[0, :], yerr=aggregated_walidation_values.iloc[1, :], fmt='-o', label = \"validation data\")\n",
        "plt.legend()\n",
        "plt.show()"
      ]
    },
    {
      "cell_type": "markdown",
      "metadata": {
        "id": "f4bzEo25RU5y"
      },
      "source": [
        "Możemy zauważyć, że nasz model przeucza się dość szybko - po osiągnięciu wartości głębokości drzewa decyzyjnego równej 2, dokłądność uzyskiwanego wyniku w przypadku zbioru walidacyjnego już nigdy nie osiąga dokłądności rzędu 0.8, chociaż i dalej znajduje się w zakresie 0.65-0.75."
      ]
    },
    {
      "cell_type": "markdown",
      "metadata": {
        "id": "En3WaorvofbR"
      },
      "source": [
        "## Testowanie algorytmu\n",
        "Na tym etapie, jako już zostały wyznaczone wystarczająco dobre wartości hiperparametrów - 0.6 jako punkt podziału zbioru oraz 2 jako głębokość drzewa decyzyjnego, nasz model zostanie przetestowany dla wszystkich trzech zbiorów - trenującego, walidacyjnego i testowego. Zostaną obliczone wartości takich metryk jak *accuracy*, *precision* oraz *recall*. Jedynie dla zbioru testującego zostanie zbudowany *confusion matrix*.\n",
        "\n",
        "- Precision - the fraction of positive cases correctly identified (the number of true positives divided by the number of true positives plus false positives) (out of all the patients that the model predicted as having breast cancer, how many are actually have it)\n",
        "- Recall - the fraction of the cases classified as positive that are actually positive (the number of true positives divided by the number of true positives plus false negatives) (out of all the patients who actually have breast cancer, how many did the model identify)"
      ]
    },
    {
      "cell_type": "code",
      "execution_count": 378,
      "metadata": {
        "id": "s3CScR39omqq"
      },
      "outputs": [],
      "source": [
        "data = data.sample(frac=1, random_state=42).reset_index(drop=True)\n",
        "slice_point1 = np.floor(len(data)*0.6).astype(int)\n",
        "slice_point2 = np.floor(len(data)*0.9).astype(int)\n",
        "training_set = data.iloc[0:slice_point1, :]\n",
        "walidating_set = data.iloc[slice_point1 + 1: slice_point2, :]\n",
        "testing_set = data.iloc[slice_point2 + 1: len(data) - 1, :]"
      ]
    },
    {
      "cell_type": "code",
      "execution_count": 377,
      "metadata": {
        "colab": {
          "base_uri": "https://localhost:8080/",
          "height": 441
        },
        "id": "xQlWrql8pcdP",
        "outputId": "ea234453-4837-4db1-8c77-f6d57ed425b8"
      },
      "outputs": [
        {
          "data": {
            "image/png": "[encoded data removed]",
            "text/plain": [
              "<Figure size 720x504 with 2 Axes>"
            ]
          },
          "metadata": {
            "needs_background": "light"
          },
          "output_type": "display_data"
        }
      ],
      "source": [
        "tree = build_tree(training_set, 2)\n",
        "array_train, accuracy_train, result_train = walidate(training_set, tree)\n",
        "array_valid, accuracy_valid, result_valid = walidate(walidating_set, tree)\n",
        "array_test, accuracy_test, result_test = walidate(testing_set, tree)\n",
        "new_array = [[array_test[0], array_test[2]],\n",
        "             [array_test[3], array_test[1]]]\n",
        "df_cm = pd.DataFrame(new_array, index = [\"no\", \"yes\"],\n",
        "                  columns = [\"no\", \"yes\"])\n",
        "plt.figure(figsize = (10, 7))\n",
        "cmap = sn.cm.rocket_r\n",
        "sn.heatmap(df_cm, annot=True, cmap=cmap)\n",
        "plt.ylabel(\"Predicted clsas\")\n",
        "plt.xlabel(\"Actual class\")\n",
        "plt.show()"
      ]
    },
    {
      "cell_type": "code",
      "execution_count": 379,
      "metadata": {
        "colab": {
          "base_uri": "https://localhost:8080/"
        },
        "id": "82PaLqf8x4Gp",
        "outputId": "e3898e7b-a9f9-4584-83d9-7e0375eb950f"
      },
      "outputs": [
        {
          "name": "stdout",
          "output_type": "stream",
          "text": [
            "╒════════════╤════════════════╤═════════════════╤══════════════╤══════════════════════╕\n",
            "│ Dataset    │   Acurracy [%] │   Precision [%] │   Recall [%] │   Unknown Values [%] │\n",
            "╞════════════╪════════════════╪═════════════════╪══════════════╪══════════════════════╡\n",
            "│ Training   │             85 │              84 │           44 │                    0 │\n",
            "├────────────┼────────────────┼─────────────────┼──────────────┼──────────────────────┤\n",
            "│ Validation │             71 │              30 │           17 │                    3 │\n",
            "├────────────┼────────────────┼─────────────────┼──────────────┼──────────────────────┤\n",
            "│ Testing    │             95 │              50 │          100 │                    4 │\n",
            "╘════════════╧════════════════╧═════════════════╧══════════════╧══════════════════════╛\n"
          ]
        }
      ],
      "source": [
        "result_computed = [\n",
        "                   [\"Training\", np.floor(accuracy_train*100), np.floor(array_train[1]*100/(array_train[1]+array_train[3])), np.floor(array_train[1]*100/(array_train[1]+array_train[2])), np.floor(array_train[4]*100/len(result_train)) ],\n",
        "                   [\"Validation\", np.floor(accuracy_valid*100), np.floor(array_valid[1]*100/(array_valid[1]+array_valid[3])), np.floor(array_valid[1]*100/(array_valid[1]+array_valid[2])), np.floor(array_valid[4]*100/len(result_valid)) ],\n",
        "                   [\"Testing\", np.floor(accuracy_test*100), np.floor(array_test[1]*100/(array_test[1]+array_test[3])), np.floor(array_test[1]*100/(array_test[1]+array_test[2])), np.floor(array_test[4]*100/len(result_test)) ]\n",
        "]\n",
        "print(tabulate(result_computed, headers=['Dataset', 'Acurracy [%]', 'Precision [%]', \"Recall [%]\", \"Unknown Values [%]\"], tablefmt=\"fancy_grid\"))"
      ]
    },
    {
      "cell_type": "markdown",
      "metadata": {
        "id": "lPcgpghMTWqY"
      },
      "source": [
        "Możemy zauważyć, że wartości wszystkich zdefiniowanych metryk, uzyskiwanych dla zbiory testującego (w danym przypadku) są dość dobre jak dla algorytmu typu ID3. "
      ]
    },
    {
      "cell_type": "markdown",
      "metadata": {
        "id": "xNdn88DW4FAG"
      },
      "source": [
        "## Przykładowe drzewo decyzyjne"
      ]
    },
    {
      "cell_type": "code",
      "execution_count": null,
      "metadata": {
        "colab": {
          "base_uri": "https://localhost:8080/"
        },
        "id": "ZdQPKEUyqV5u",
        "outputId": "b4ffda59-b476-4bf3-def8-cb3c1d7bf37c"
      },
      "outputs": [
        {
          "name": "stdout",
          "output_type": "stream",
          "text": [
            "Decision tree: \n",
            "{'inv-nodes': {'0-2': {'tumor-size': {'0-4': 'no',\n",
            "                                      '10-14': 'no',\n",
            "                                      '15-19': 'no',\n",
            "                                      '20-24': 'no',\n",
            "                                      '25-29': 'no',\n",
            "                                      '30-34': 'no',\n",
            "                                      '35-39': 'no',\n",
            "                                      '40-44': 'no',\n",
            "                                      '45-49': 'yes',\n",
            "                                      '5-9': 'yes',\n",
            "                                      '50-54': 'no'}},\n",
            "               '12-14': 'yes',\n",
            "               '15-17': {'tumor-size': {'15-19': 'no',\n",
            "                                        '30-34': 'no',\n",
            "                                        '35-39': 'no',\n",
            "                                        '40-44': 'yes'}},\n",
            "               '3-5': {'age': {'30-39': 'yes',\n",
            "                               '40-49': 'yes',\n",
            "                               '50-59': 'no',\n",
            "                               '60-69': 'yes'}},\n",
            "               '6-8': {'tumor-size': {'20-24': 'yes',\n",
            "                                      '25-29': 'yes',\n",
            "                                      '30-34': 'no',\n",
            "                                      '35-39': 'no'}},\n",
            "               '9-11': {'tumor-size': {'30-34': 'yes',\n",
            "                                       '35-39': 'yes',\n",
            "                                       '50-54': 'no'}}}}\n"
          ]
        }
      ],
      "source": [
        "print(\"Decision tree: \")\n",
        "pprint.pprint(tree)"
      ]
    },
    {
      "cell_type": "markdown",
      "metadata": {
        "id": "thyzGiQaVkA3"
      },
      "source": [
        "Warto zauważyć, że drzewo decyzyjne z większym prawdopodobieństwem wykryje osób, które nie maką onkologii, niż tych osób które ją mają z powodu tego, że zbior danych na których trenujemy nasz model jest dość mały, a przypadków pozytywnych jest o wiele mniej niż przypadków negatywnych."
      ]
    },
    {
      "cell_type": "markdown",
      "metadata": {
        "id": "uB3a5cMN4JOu"
      },
      "source": [
        "## Wnioski i obserwacje\n",
        "\n",
        "Zaimplementowany aklgorytm cechuje się tendencją do przeuczania się, zatem dość poważnie trzeba podejść do doboru właściwych parametrów, aby algorytm był w stanie dość dobrze działać na danych testowych.\n",
        "\n",
        "Niestety ten algorytm, i zbudowane z jego pomocą drzewo decyzyjne nie jest w stanie przewidywać wynik dla zbioru, który zawiera dane, nieobecne w danym drzewie decyzyjnym (w przypadku niektórych liści).\n",
        "\n",
        "Dość ciekawym spostrzeżeniem było to, że punkt podziału zbioru danych jest dość istotnym parametrym, jeżeli chodzi o trenowanie modeli z wykorzystaniem drzew decyzyjnych. \n",
        "\n",
        "Dość ciekawym jest to, że uzyskiwane wartości metryk (wykorzystywanych do oceny algorytmów klasyfikacji) nie są zbytnio skorelowane ze sobą (jeżeli chodzi o porównanie wyniku dla zbioru trenującego, walidacyjnego i testującego), chociaż też to pewnie tak się dzieje z powodu nie wystarczająco licznej i dokładnej (Wartości nie mające sens, o których mowa była na samym początku) próbki badanych danych."
      ]
    }
  ],
  "metadata": {
    "colab": {
      "collapsed_sections": [],
      "name": "Untitled1.ipynb",
      "provenance": []
    },
    "kernelspec": {
      "display_name": "Python 3",
      "name": "python3"
    },
    "language_info": {
      "name": "python"
    }
  },
  "nbformat": 4,
  "nbformat_minor": 0
}
